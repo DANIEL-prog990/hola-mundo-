{
  "nbformat": 4,
  "nbformat_minor": 0,
  "metadata": {
    "colab": {
      "provenance": [],
      "authorship_tag": "ABX9TyOOJXY8qfiQsW9Xc8Su6bm9",
      "include_colab_link": true
    },
    "kernelspec": {
      "name": "python3",
      "display_name": "Python 3"
    },
    "language_info": {
      "name": "python"
    }
  },
  "cells": [
    {
      "cell_type": "markdown",
      "metadata": {
        "id": "view-in-github",
        "colab_type": "text"
      },
      "source": [
        "<a href=\"https://colab.research.google.com/github/DANIEL-prog990/hola-mundo-/blob/main/numeros.ipynb\" target=\"_parent\"><img src=\"https://colab.research.google.com/assets/colab-badge.svg\" alt=\"Open In Colab\"/></a>"
      ]
    },
    {
      "cell_type": "markdown",
      "source": [
        "SACAR MINIMO\n",
        "Software para conocer un nùmero minimo de un grupo de nùmeros.\n"
      ],
      "metadata": {
        "id": "P_R6-1ppEz73"
      }
    },
    {
      "cell_type": "code",
      "execution_count": null,
      "metadata": {
        "colab": {
          "base_uri": "https://localhost:8080/"
        },
        "id": "rAKFvjISDYjb",
        "outputId": "422b11b5-5c26-4556-da31-4049ed84593d"
      },
      "outputs": [
        {
          "output_type": "stream",
          "name": "stdout",
          "text": [
            "minimo: 4\n"
          ]
        }
      ],
      "source": [
        "def sacar_minimo(*args):\n",
        "  return min(args)\n",
        "\n",
        "minimo = sacar_minimo(10, 4, 56, 23)\n",
        "print(f\"minimo: {minimo}\")\n"
      ]
    },
    {
      "cell_type": "markdown",
      "source": [
        "calcular suma\n",
        "Software para calcular una suma de varios nùmeros."
      ],
      "metadata": {
        "id": "l6JaalRTIEQa"
      }
    },
    {
      "cell_type": "code",
      "source": [
        "def calcular_suma(*args):\n",
        "  total = 0\n",
        "  for i in args:\n",
        "    print(f\"i= {i}, tipo= {type (i)}\")\n",
        "    total += i\n",
        "  suma = len(args)\n",
        "  suma = total\n",
        "  return suma\n",
        "\n",
        "total = calcular_suma (10, 4, 6, 8)\n",
        "print(f\" total={total}\")\n",
        "\n"
      ],
      "metadata": {
        "colab": {
          "base_uri": "https://localhost:8080/"
        },
        "id": "0-UQm1EGIHmM",
        "outputId": "d6b1c677-dd7c-44be-e839-622f84eb8f71"
      },
      "execution_count": null,
      "outputs": [
        {
          "output_type": "stream",
          "name": "stdout",
          "text": [
            "i= 10, tipo= <class 'int'>\n",
            "i= 4, tipo= <class 'int'>\n",
            "i= 6, tipo= <class 'int'>\n",
            "i= 8, tipo= <class 'int'>\n",
            " total=28\n"
          ]
        }
      ]
    }
  ]
}